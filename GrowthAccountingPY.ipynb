{
 "cells": [
  {
   "cell_type": "code",
   "execution_count": 1,
   "metadata": {
    "colab": {
     "base_uri": "https://localhost:8080/",
     "height": 1000
    },
    "id": "EjhfD-rszB3I",
    "outputId": "2ebe81da-ef8a-4878-f56a-fed459f45206",
    "tags": []
   },
   "outputs": [
    {
     "ename": "ModuleNotFoundError",
     "evalue": "No module named 'pandas'",
     "output_type": "error",
     "traceback": [
      "\u001b[0;31m---------------------------------------------------------------------------\u001b[0m",
      "\u001b[0;31mModuleNotFoundError\u001b[0m                       Traceback (most recent call last)",
      "Cell \u001b[0;32mIn[1], line 1\u001b[0m\n\u001b[0;32m----> 1\u001b[0m \u001b[38;5;28;01mimport\u001b[39;00m \u001b[38;5;21;01mpandas\u001b[39;00m \u001b[38;5;28;01mas\u001b[39;00m \u001b[38;5;21;01mpd\u001b[39;00m\n\u001b[1;32m      2\u001b[0m \u001b[38;5;28;01mimport\u001b[39;00m \u001b[38;5;21;01mmatplotlib\u001b[39;00m\u001b[38;5;21;01m.\u001b[39;00m\u001b[38;5;21;01mpyplot\u001b[39;00m \u001b[38;5;28;01mas\u001b[39;00m \u001b[38;5;21;01mplt\u001b[39;00m\n\u001b[1;32m      5\u001b[0m \u001b[38;5;66;03m# Load data\u001b[39;00m\n",
      "\u001b[0;31mModuleNotFoundError\u001b[0m: No module named 'pandas'"
     ]
    }
   ],
   "source": [
    "import pandas as pd\n",
    "import matplotlib.pyplot as plt\n",
    "\n",
    "\n",
    "# Load data\n",
    "pwt90 = pd.read_stata('https://www.rug.nl/ggdc/docs/pwt90.dta')\n",
    "\n",
    "# Filter and select relevant columns\n",
    "data = pwt90.loc[pwt90['country'].isin(['United Kingdom'])][['year', 'countrycode', 'rgdpna', 'rkna', 'pop', 'emp', 'avh', 'labsh', 'rtfpna']]\n",
    "data = data.loc[(data['year'] >= 1975) & (data['year'] <= 2015)].dropna()\n",
    "\n",
    "# Calculate additional variables\n",
    "data['alpha'] = 1 - data['labsh']\n",
    "data['y_n'] = data['rgdpna'] / data['emp']  # Y/N\n",
    "data['hours'] = data['emp'] * data['avh']  # L\n",
    "data['tfp_term'] = data['rtfpna'] ** (1 / (1 - data['alpha']))  # A^(1/(1-alpha))\n",
    "data['cap_term'] = (data['rkna'] / data['rgdpna']) ** (data['alpha'] / (1 - data['alpha']))  # (K/Y)^(alpha/(1-alpha))\n",
    "data['lab_term'] = data['hours'] / data['pop']  # L/N\n",
    "data = data.sort_values('year').groupby('countrycode').apply(lambda x: x.assign(\n",
    "    alpha=1 - x['labsh'],\n",
    "    y_n_shifted=100 * x['y_n'] / x['y_n'].iloc[0],\n",
    "    tfp_term_shifted=100 * x['tfp_term'] / x['tfp_term'].iloc[0],\n",
    "    cap_term_shifted=100 * x['cap_term'] / x['cap_term'].iloc[0],\n",
    "    lab_term_shifted=100 * x['lab_term'] / x['lab_term'].iloc[0]\n",
    ")).reset_index(drop=True).dropna()\n",
    "\n",
    "# Print first 10 rows of data\n",
    "print(data.head(10))\n",
    "\n",
    "# Plot data\n",
    "plt.plot(data['year'], data['y_n_shifted'], label='y_n_shifted')\n",
    "plt.plot(data['year'], data['tfp_term_shifted'], label='tfp_term_shifted')\n",
    "plt.plot(data['year'], data['cap_term_shifted'], label='cap_term_shifted')\n",
    "plt.plot(data['year'], data['lab_term_shifted'], label='lab_term_shifted')\n",
    "plt.legend()\n",
    "plt.show()\n"
   ]
  },
  {
   "cell_type": "code",
   "execution_count": null,
   "metadata": {},
   "outputs": [],
   "source": []
  }
 ],
 "metadata": {
  "colab": {
   "provenance": []
  },
  "kernelspec": {
   "display_name": "Python 3 (ipykernel)",
   "language": "python",
   "name": "python3"
  },
  "language_info": {
   "codemirror_mode": {
    "name": "ipython",
    "version": 3
   },
   "file_extension": ".py",
   "mimetype": "text/x-python",
   "name": "python",
   "nbconvert_exporter": "python",
   "pygments_lexer": "ipython3",
   "version": "3.9.6"
  }
 },
 "nbformat": 4,
 "nbformat_minor": 4
}
