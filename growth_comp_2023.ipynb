{
  "nbformat": 4,
  "nbformat_minor": 0,
  "metadata": {
    "colab": {
      "provenance": [],
      "authorship_tag": "ABX9TyONxeefWckOHQ87l6oHyff+",
      "include_colab_link": true
    },
    "kernelspec": {
      "name": "python3",
      "display_name": "Python 3"
    },
    "language_info": {
      "name": "python"
    }
  },
  "cells": [
    {
      "cell_type": "markdown",
      "metadata": {
        "id": "view-in-github",
        "colab_type": "text"
      },
      "source": [
        "<a href=\"https://colab.research.google.com/github/tsenga2/keio-quant-macro/blob/main/growth_comp_2023.ipynb\" target=\"_parent\"><img src=\"https://colab.research.google.com/assets/colab-badge.svg\" alt=\"Open In Colab\"/></a>"
      ]
    },
    {
      "cell_type": "code",
      "execution_count": 55,
      "metadata": {
        "colab": {
          "base_uri": "https://localhost:8080/"
        },
        "id": "7xY0PSws21Ex",
        "outputId": "1b1ce765-9387-4417-b371-c83e939bc6fa"
      },
      "outputs": [
        {
          "output_type": "stream",
          "name": "stdout",
          "text": [
            "                    g    dsolow         a        dk  tfp.growth  \\\n",
            "countrycode                                                       \n",
            "DEU          0.595897  0.232704  0.384552  0.967537    0.232704   \n",
            "JPN          0.752177  0.139220  0.392263  1.588331    0.139220   \n",
            "USA          1.256881  0.649874  0.387017  1.590940    0.649874   \n",
            "\n",
            "             capitakl deepning  tfp.share  capital.share  \n",
            "countrycode                                               \n",
            "DEU                   0.372068   0.390511       0.624383  \n",
            "JPN                   0.623043   0.185090       0.828320  \n",
            "USA                   0.615721   0.517053       0.489880  \n"
          ]
        }
      ],
      "source": [
        "import pandas as pd\n",
        "import numpy as np\n",
        "\n",
        "\n",
        "# Load data\n",
        "pwt90 = pd.read_stata('https://www.rug.nl/ggdc/docs/pwt90.dta')\n",
        "\n",
        "# Filter and select relevant columns\n",
        "data = pwt90.loc[pwt90['country'].isin([\"Japan\", \"Germany\", \"United States\"])][['year', 'countrycode', 'rgdpna', 'rkna', 'pop', 'emp', 'avh', 'labsh', 'rtfpna']]\n",
        "data = data.loc[(data['year'] >= 2000) & (data['year'] <= 2015)].dropna()\n",
        "\n",
        "# Calculate additional columns\n",
        "data['y_pc'] = np.log(data['rgdpna'] / data['emp'])  # GDP per worker\n",
        "data['k_pc'] = np.log(data['rkna'] / data['emp'])  # Capital per worker\n",
        "data['a'] = 1 - data['labsh']  # Capital share\n",
        "\n",
        "# Order by year\n",
        "data = data.sort_values('year')\n",
        "\n",
        "# Group by isocode\n",
        "grouped_data = data.groupby('countrycode')\n",
        "\n",
        "# Calculate growth rates and Solow residual\n",
        "data['g'] = (grouped_data['y_pc'].diff() * 100)  # Growth rate of GDP per capita\n",
        "data['dk'] = (grouped_data['k_pc'].diff() * 100)  # Growth rate of capital per capita\n",
        "data['dsolow'] = data['g'] - data['a'] * data['dk']  # Solow residual\n",
        "\n",
        "# Remove missing values\n",
        "data = data.dropna()\n",
        "\n",
        "# Calculate summary statistics\n",
        "summary = data.groupby('countrycode').agg({'g': 'mean',\n",
        "                                       'dsolow': 'mean',\n",
        "                                       'a': \"mean\",\n",
        "                                       'dk': \"mean\"})\n",
        "\n",
        "# Calculate additional summary statistics\n",
        "summary['tfp.growth'] = summary['dsolow']\n",
        "summary['capitakl deepning'] = summary['a']*summary['dk']\n",
        "summary['tfp.share'] = summary['dsolow'] / summary['g']\n",
        "summary['capital.share'] = summary['capitakl deepning'] / summary['g']\n",
        "\n",
        "# Print output\n",
        "print(summary)"
      ]
    }
  ]
}