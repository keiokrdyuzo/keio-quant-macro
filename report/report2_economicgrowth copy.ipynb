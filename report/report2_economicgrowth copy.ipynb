{
 "cells": [
  {
   "cell_type": "code",
   "execution_count": 11,
   "metadata": {},
   "outputs": [],
   "source": [
    "import pandas as pd\n",
    "import requests\n",
    "import tempfile\n",
    "import certifi\n",
    "\n",
    "# URL for Penn World Table data (modify according to the specific version you're using)\n",
    "url = 'https://www.rug.nl/ggdc/docs/pwt90.dta'\n",
    "response = requests.get(url, verify=certifi.where())\n",
    "response.raise_for_status()\n",
    "\n",
    "# Save to a temporary file\n",
    "with tempfile.NamedTemporaryFile(delete=False, suffix='.dta') as tmp:\n",
    "    tmp.write(response.content)\n",
    "    tmp_path = tmp.name\n",
    "\n",
    "# Load the data using pandas\n",
    "pwt_data = pd.read_stata(tmp_path)\n",
    "\n",
    "# Filter data for the period 1960-2000 and specific countries if needed\n",
    "pwt_filtered = pwt_data[(pwt_data['year'] >= 1960) & (pwt_data['year'] <= 2000)]\n"
   ]
  },
  {
   "cell_type": "code",
   "execution_count": 14,
   "metadata": {},
   "outputs": [
    {
     "name": "stderr",
     "output_type": "stream",
     "text": [
      "/var/folders/_1/6pq414md0y1_mgwvl5dlnd2h0000gn/T/ipykernel_78117/3706746927.py:2: SettingWithCopyWarning: \n",
      "A value is trying to be set on a copy of a slice from a DataFrame.\n",
      "Try using .loc[row_indexer,col_indexer] = value instead\n",
      "\n",
      "See the caveats in the documentation: https://pandas.pydata.org/pandas-docs/stable/user_guide/indexing.html#returning-a-view-versus-a-copy\n",
      "  pwt_filtered['labor_productivity'] = pwt_filtered['rgdpna'] / pwt_filtered['emp']\n",
      "/var/folders/_1/6pq414md0y1_mgwvl5dlnd2h0000gn/T/ipykernel_78117/3706746927.py:5: FutureWarning: The default fill_method='ffill' in SeriesGroupBy.pct_change is deprecated and will be removed in a future version. Either fill in any non-leading NA values prior to calling pct_change or specify 'fill_method=None' to not fill NA values.\n",
      "  pwt_filtered['lp_growth'] = pwt_filtered.groupby('country')['labor_productivity'].pct_change() * 100\n",
      "/var/folders/_1/6pq414md0y1_mgwvl5dlnd2h0000gn/T/ipykernel_78117/3706746927.py:5: SettingWithCopyWarning: \n",
      "A value is trying to be set on a copy of a slice from a DataFrame.\n",
      "Try using .loc[row_indexer,col_indexer] = value instead\n",
      "\n",
      "See the caveats in the documentation: https://pandas.pydata.org/pandas-docs/stable/user_guide/indexing.html#returning-a-view-versus-a-copy\n",
      "  pwt_filtered['lp_growth'] = pwt_filtered.groupby('country')['labor_productivity'].pct_change() * 100\n",
      "/var/folders/_1/6pq414md0y1_mgwvl5dlnd2h0000gn/T/ipykernel_78117/3706746927.py:8: FutureWarning: The default fill_method='ffill' in SeriesGroupBy.pct_change is deprecated and will be removed in a future version. Either fill in any non-leading NA values prior to calling pct_change or specify 'fill_method=None' to not fill NA values.\n",
      "  pwt_filtered['tfp_growth'] = pwt_filtered.groupby('country')['rtfpna'].pct_change() * 100\n",
      "/var/folders/_1/6pq414md0y1_mgwvl5dlnd2h0000gn/T/ipykernel_78117/3706746927.py:8: SettingWithCopyWarning: \n",
      "A value is trying to be set on a copy of a slice from a DataFrame.\n",
      "Try using .loc[row_indexer,col_indexer] = value instead\n",
      "\n",
      "See the caveats in the documentation: https://pandas.pydata.org/pandas-docs/stable/user_guide/indexing.html#returning-a-view-versus-a-copy\n",
      "  pwt_filtered['tfp_growth'] = pwt_filtered.groupby('country')['rtfpna'].pct_change() * 100\n",
      "/var/folders/_1/6pq414md0y1_mgwvl5dlnd2h0000gn/T/ipykernel_78117/3706746927.py:9: FutureWarning: The default fill_method='ffill' in SeriesGroupBy.pct_change is deprecated and will be removed in a future version. Either fill in any non-leading NA values prior to calling pct_change or specify 'fill_method=None' to not fill NA values.\n",
      "  pwt_filtered['capital_growth'] = pwt_filtered.groupby('country')['rkna'].pct_change() * 100\n",
      "/var/folders/_1/6pq414md0y1_mgwvl5dlnd2h0000gn/T/ipykernel_78117/3706746927.py:9: SettingWithCopyWarning: \n",
      "A value is trying to be set on a copy of a slice from a DataFrame.\n",
      "Try using .loc[row_indexer,col_indexer] = value instead\n",
      "\n",
      "See the caveats in the documentation: https://pandas.pydata.org/pandas-docs/stable/user_guide/indexing.html#returning-a-view-versus-a-copy\n",
      "  pwt_filtered['capital_growth'] = pwt_filtered.groupby('country')['rkna'].pct_change() * 100\n"
     ]
    }
   ],
   "source": [
    "# Calculate labor productivity as real GDP (rgdpna) per worker (emp)\n",
    "pwt_filtered['labor_productivity'] = pwt_filtered['rgdpna'] / pwt_filtered['emp']\n",
    "\n",
    "# Calculate growth rate of labor productivity\n",
    "pwt_filtered['lp_growth'] = pwt_filtered.groupby('country')['labor_productivity'].pct_change() * 100\n",
    "\n",
    "# Calculate growth rates for TFP and capital\n",
    "pwt_filtered['tfp_growth'] = pwt_filtered.groupby('country')['rtfpna'].pct_change() * 100\n",
    "pwt_filtered['capital_growth'] = pwt_filtered.groupby('country')['rkna'].pct_change() * 100\n"
   ]
  },
  {
   "cell_type": "code",
   "execution_count": 18,
   "metadata": {},
   "outputs": [
    {
     "name": "stdout",
     "output_type": "stream",
     "text": [
      "                                country  lp_growth  tfp_growth  \\\n",
      "0                               Albania   1.812419         NaN   \n",
      "1                               Algeria   0.726973         NaN   \n",
      "2                                Angola  -0.917570         NaN   \n",
      "3                              Anguilla   0.173653         NaN   \n",
      "4                             Argentina   1.018071   -0.176239   \n",
      "..                                  ...        ...         ...   \n",
      "171  Venezuela (Bolivarian Republic of)   0.353610   -0.594301   \n",
      "172                            Viet Nam   2.694036         NaN   \n",
      "173                               Yemen   2.952456         NaN   \n",
      "174                              Zambia  -0.234051         NaN   \n",
      "175                            Zimbabwe  -1.056649   -1.019850   \n",
      "\n",
      "     capital_growth  tfp_share  capital_share  sum_shares  \n",
      "0          4.572148        NaN       2.522678         NaN  \n",
      "1          4.175488        NaN       5.743660         NaN  \n",
      "2          2.531968        NaN      -2.759427         NaN  \n",
      "3          6.766061        NaN      38.962997         NaN  \n",
      "4          3.386370  -0.173111       3.326263    3.153152  \n",
      "..              ...        ...            ...         ...  \n",
      "171        4.012010  -1.680668      11.345861    9.665194  \n",
      "172        5.837562        NaN       2.166847         NaN  \n",
      "173        6.011940        NaN       2.036250         NaN  \n",
      "174        0.126805        NaN      -0.541784         NaN  \n",
      "175        0.978422   0.965174      -0.925967    0.039206  \n",
      "\n",
      "[176 rows x 7 columns]\n"
     ]
    }
   ],
   "source": [
    "# Calculate average growth rates and contributions over the period for each country\n",
    "average_metrics = pwt_filtered.groupby('country').agg({\n",
    "    'lp_growth': 'mean',\n",
    "    'tfp_growth': 'mean',\n",
    "    'capital_growth': 'mean'\n",
    "}).reset_index()\n",
    "\n",
    "# Calculate shares of TFP growth and capital deepening in total labor productivity growth\n",
    "average_metrics['tfp_share'] = average_metrics['tfp_growth'] / average_metrics['lp_growth']\n",
    "average_metrics['capital_share'] = average_metrics['capital_growth'] / average_metrics['lp_growth']\n",
    "average_metrics['sum_shares'] = average_metrics['tfp_share'] + average_metrics['capital_share']\n",
    "\n",
    "# Display the results\n",
    "print(average_metrics[['country', 'lp_growth', 'tfp_growth', 'capital_growth', 'tfp_share', 'capital_share', 'sum_shares']])\n"
   ]
  },
  {
   "cell_type": "code",
   "execution_count": 17,
   "metadata": {},
   "outputs": [],
   "source": [
    "# Drop rows where 'lp_growth' is NaN since growth rates cannot be computed without it\n",
    "pwt_filtered = pwt_filtered.dropna(subset=['lp_growth'])\n",
    "\n",
    "# Optionally, remove countries with extreme values or where data seems unreliable\n",
    "# This step depends on your specific criteria for data cleaning\n"
   ]
  },
  {
   "cell_type": "code",
   "execution_count": null,
   "metadata": {},
   "outputs": [],
   "source": []
  }
 ],
 "metadata": {
  "kernelspec": {
   "display_name": "Python 3",
   "language": "python",
   "name": "python3"
  },
  "language_info": {
   "codemirror_mode": {
    "name": "ipython",
    "version": 3
   },
   "file_extension": ".py",
   "mimetype": "text/x-python",
   "name": "python",
   "nbconvert_exporter": "python",
   "pygments_lexer": "ipython3",
   "version": "3.10.7"
  }
 },
 "nbformat": 4,
 "nbformat_minor": 2
}
