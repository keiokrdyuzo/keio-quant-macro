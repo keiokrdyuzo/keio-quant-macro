{
 "cells": [
  {
   "cell_type": "code",
   "execution_count": 5,
   "metadata": {},
   "outputs": [],
   "source": [
    "import pandas as pd\n",
    "import requests\n",
    "import tempfile\n",
    "import certifi\n",
    "\n",
    "# Download the PWT data\n",
    "url = 'https://www.rug.nl/ggdc/docs/pwt90.dta'\n",
    "response = requests.get(url, verify=certifi.where())\n",
    "response.raise_for_status()\n",
    "\n",
    "# Save to a temporary file\n",
    "with tempfile.NamedTemporaryFile(delete=False, suffix='.dta') as tmp:\n",
    "    tmp.write(response.content)\n",
    "    tmp_path = tmp.name\n",
    "\n",
    "# Load the data using pandas\n",
    "pwt_data = pd.read_stata(tmp_path)\n",
    "\n",
    "# Filter for OECD countries if necessary, or use a predefined list of countries\n",
    "oecd_countries = ['United States', 'Canada', 'Germany', 'France', 'United Kingdom', 'Japan', ...]  # Add other OECD countries\n",
    "pwt_oecd = pwt_data[pwt_data['country'].isin(oecd_countries)]\n"
   ]
  },
  {
   "cell_type": "code",
   "execution_count": 6,
   "metadata": {},
   "outputs": [
    {
     "name": "stderr",
     "output_type": "stream",
     "text": [
      "/var/folders/_1/6pq414md0y1_mgwvl5dlnd2h0000gn/T/ipykernel_78117/512943561.py:2: SettingWithCopyWarning: \n",
      "A value is trying to be set on a copy of a slice from a DataFrame.\n",
      "Try using .loc[row_indexer,col_indexer] = value instead\n",
      "\n",
      "See the caveats in the documentation: https://pandas.pydata.org/pandas-docs/stable/user_guide/indexing.html#returning-a-view-versus-a-copy\n",
      "  pwt_oecd['labor_productivity'] = pwt_oecd['rgdpna'] / pwt_oecd['emp']  # Assuming 'emp' is employment or total labor input\n",
      "/var/folders/_1/6pq414md0y1_mgwvl5dlnd2h0000gn/T/ipykernel_78117/512943561.py:5: SettingWithCopyWarning: \n",
      "A value is trying to be set on a copy of a slice from a DataFrame.\n",
      "Try using .loc[row_indexer,col_indexer] = value instead\n",
      "\n",
      "See the caveats in the documentation: https://pandas.pydata.org/pandas-docs/stable/user_guide/indexing.html#returning-a-view-versus-a-copy\n",
      "  pwt_oecd['labor_productivity_growth'] = pwt_oecd.groupby('country')['labor_productivity'].pct_change() * 100\n"
     ]
    }
   ],
   "source": [
    "# Calculate labor productivity (GDP per worker or per hour worked, depending on data availability)\n",
    "pwt_oecd['labor_productivity'] = pwt_oecd['rgdpna'] / pwt_oecd['emp']  # Assuming 'emp' is employment or total labor input\n",
    "\n",
    "# Calculate growth rate of labor productivity\n",
    "pwt_oecd['labor_productivity_growth'] = pwt_oecd.groupby('country')['labor_productivity'].pct_change() * 100\n"
   ]
  },
  {
   "cell_type": "code",
   "execution_count": 8,
   "metadata": {},
   "outputs": [
    {
     "name": "stderr",
     "output_type": "stream",
     "text": [
      "/var/folders/_1/6pq414md0y1_mgwvl5dlnd2h0000gn/T/ipykernel_78117/1216087066.py:2: SettingWithCopyWarning: \n",
      "A value is trying to be set on a copy of a slice from a DataFrame.\n",
      "Try using .loc[row_indexer,col_indexer] = value instead\n",
      "\n",
      "See the caveats in the documentation: https://pandas.pydata.org/pandas-docs/stable/user_guide/indexing.html#returning-a-view-versus-a-copy\n",
      "  pwt_oecd['tfp_contribution'] = pwt_oecd['rtfpna'].pct_change() * 100  # TFP growth rate\n",
      "/var/folders/_1/6pq414md0y1_mgwvl5dlnd2h0000gn/T/ipykernel_78117/1216087066.py:3: SettingWithCopyWarning: \n",
      "A value is trying to be set on a copy of a slice from a DataFrame.\n",
      "Try using .loc[row_indexer,col_indexer] = value instead\n",
      "\n",
      "See the caveats in the documentation: https://pandas.pydata.org/pandas-docs/stable/user_guide/indexing.html#returning-a-view-versus-a-copy\n",
      "  pwt_oecd['capital_contribution'] = pwt_oecd['rkna'].pct_change() * 100  # Capital deepening\n"
     ]
    }
   ],
   "source": [
    "# Calculate the contributions\n",
    "pwt_oecd['tfp_contribution'] = pwt_oecd['rtfpna'].pct_change() * 100  # TFP growth rate\n",
    "pwt_oecd['capital_contribution'] = pwt_oecd['rkna'].pct_change() * 100  # Capital deepening\n",
    "\n",
    "# Filter data for a specific period (1960-2000)\n",
    "analysis_period = pwt_oecd[(pwt_oecd['year'] >= 1960) & (pwt_oecd['year'] <= 2000)]\n",
    "\n",
    "# Average the growth rates over the period for each country\n",
    "final_table = analysis_period.groupby('country').agg({\n",
    "    'labor_productivity_growth': 'mean',\n",
    "    'tfp_contribution': 'mean',\n",
    "    'capital_contribution': 'mean'\n",
    "}).reset_index()\n"
   ]
  },
  {
   "cell_type": "code",
   "execution_count": 9,
   "metadata": {},
   "outputs": [
    {
     "name": "stdout",
     "output_type": "stream",
     "text": [
      "          country  labor_productivity_growth  tfp_contribution  \\\n",
      "0          Canada                   1.458957          0.634422   \n",
      "1          France                   3.002542          2.041511   \n",
      "2         Germany                   2.858228          1.802042   \n",
      "3           Japan                   4.413094          1.039314   \n",
      "4  United Kingdom                   2.232333          1.212504   \n",
      "5   United States                   1.808904          0.899491   \n",
      "\n",
      "   capital_contribution  \n",
      "0              4.181617  \n",
      "1              4.331626  \n",
      "2              3.964332  \n",
      "3             11.373339  \n",
      "4              2.727078  \n",
      "5              3.233591  \n"
     ]
    }
   ],
   "source": [
    "print(final_table)\n"
   ]
  },
  {
   "cell_type": "code",
   "execution_count": null,
   "metadata": {},
   "outputs": [],
   "source": []
  }
 ],
 "metadata": {
  "kernelspec": {
   "display_name": "Python 3",
   "language": "python",
   "name": "python3"
  },
  "language_info": {
   "codemirror_mode": {
    "name": "ipython",
    "version": 3
   },
   "file_extension": ".py",
   "mimetype": "text/x-python",
   "name": "python",
   "nbconvert_exporter": "python",
   "pygments_lexer": "ipython3",
   "version": "3.10.7"
  }
 },
 "nbformat": 4,
 "nbformat_minor": 2
}
