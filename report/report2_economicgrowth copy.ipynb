{
 "cells": [
  {
   "cell_type": "code",
   "execution_count": 11,
   "metadata": {},
   "outputs": [],
   "source": [
    "import pandas as pd\n",
    "import requests\n",
    "import tempfile\n",
    "import certifi\n",
    "\n",
    "# URL for Penn World Table data (modify according to the specific version you're using)\n",
    "url = 'https://www.rug.nl/ggdc/docs/pwt90.dta'\n",
    "response = requests.get(url, verify=certifi.where())\n",
    "response.raise_for_status()\n",
    "\n",
    "# Save to a temporary file\n",
    "with tempfile.NamedTemporaryFile(delete=False, suffix='.dta') as tmp:\n",
    "    tmp.write(response.content)\n",
    "    tmp_path = tmp.name\n",
    "\n",
    "# Load the data using pandas\n",
    "pwt_data = pd.read_stata(tmp_path)\n",
    "\n",
    "# Filter data for the period 1960-2000 and specific countries if needed\n",
    "pwt_filtered = pwt_data[(pwt_data['year'] >= 1960) & (pwt_data['year'] <= 2000)]\n"
   ]
  },
  {
   "cell_type": "code",
   "execution_count": 19,
   "metadata": {},
   "outputs": [
    {
     "name": "stderr",
     "output_type": "stream",
     "text": [
      "/var/folders/_1/6pq414md0y1_mgwvl5dlnd2h0000gn/T/ipykernel_78117/147861487.py:11: DeprecationWarning: DataFrameGroupBy.apply operated on the grouping columns. This behavior is deprecated, and in a future version of pandas the grouping columns will be excluded from the operation. Either pass `include_groups=False` to exclude the groupings or explicitly select the grouping columns after groupby to silence this warning.\n",
      "  growth_rates = pwt_filtered.groupby('country').apply(lambda x:\n"
     ]
    }
   ],
   "source": [
    "# Filter the relevant years and countries\n",
    "countries = ['Australia', 'Austria', 'Belgium', 'Canada', 'Denmark', 'Finland', 'France', \n",
    "             'Germany', 'Greece', 'Iceland', 'Ireland', 'Italy', 'Japan', 'Netherlands', \n",
    "             'New Zealand', 'Norway', 'Portugal', 'Spain', 'Sweden', 'Switzerland', \n",
    "             'United Kingdom', 'United States']  # Add or remove based on availability\n",
    "\n",
    "pwt_filtered = pwt_data[(pwt_data['year'] >= 1960) & (pwt_data['year'] <= 2000) & \n",
    "                        (pwt_data['country'].isin(countries))]\n",
    "\n",
    "# Calculate average annual growth rates\n",
    "growth_rates = pwt_filtered.groupby('country').apply(lambda x: \n",
    "                                                     (x[['rgdpna', 'rtfpna', 'rkna']].pct_change() + 1).prod() ** (1/len(x)) - 1)\n"
   ]
  },
  {
   "cell_type": "code",
   "execution_count": 20,
   "metadata": {},
   "outputs": [
    {
     "name": "stdout",
     "output_type": "stream",
     "text": [
      "                Growth Rate  TFP Growth  Capital Deepening  TFP Share  \\\n",
      "Australia          3.592646    0.838780           3.561521   0.233471   \n",
      "Austria            3.205478    1.408362           4.043484   0.439361   \n",
      "Belgium            3.057003    1.636624           3.129745   0.535369   \n",
      "Canada             3.557873    0.617492           4.061985   0.173557   \n",
      "Denmark            2.895236    1.098835           3.975713   0.379532   \n",
      "Finland            3.413653    1.711261           3.926492   0.501299   \n",
      "France             3.393149    1.852989           4.176021   0.546097   \n",
      "Germany            2.826917    1.656210           3.740466   0.585872   \n",
      "Greece             3.918755    0.970745           4.950404   0.247718   \n",
      "Iceland            3.966475    1.001704           4.331708   0.252543   \n",
      "Ireland            4.614973    1.892865           4.104078   0.410157   \n",
      "Italy              3.461969    1.404321           4.101086   0.405642   \n",
      "Japan              4.916239    0.845432          11.015856   0.171967   \n",
      "Netherlands        3.410280    1.493096           3.685462   0.437822   \n",
      "New Zealand        2.567089    0.501215           2.803397   0.195247   \n",
      "Norway             3.668833    1.842153           3.592420   0.502109   \n",
      "Portugal           4.195201    1.072335           4.814935   0.255610   \n",
      "Spain              4.143524    1.494646           5.203509   0.360719   \n",
      "Sweden             2.649236    0.851440           3.034854   0.321391   \n",
      "Switzerland        2.279758    0.428319           3.602350   0.187879   \n",
      "United Kingdom     2.503002    1.168525           2.632129   0.466850   \n",
      "United States      3.466523    0.881255           3.143966   0.254219   \n",
      "\n",
      "                Capital Share  \n",
      "Australia            0.991336  \n",
      "Austria              1.261429  \n",
      "Belgium              1.023795  \n",
      "Canada               1.141689  \n",
      "Denmark              1.373191  \n",
      "Finland              1.150231  \n",
      "France               1.230721  \n",
      "Germany              1.323161  \n",
      "Greece               1.263259  \n",
      "Iceland              1.092080  \n",
      "Ireland              0.889296  \n",
      "Italy                1.184611  \n",
      "Japan                2.240708  \n",
      "Netherlands          1.080692  \n",
      "New Zealand          1.092053  \n",
      "Norway               0.979172  \n",
      "Portugal             1.147724  \n",
      "Spain                1.255817  \n",
      "Sweden               1.145558  \n",
      "Switzerland          1.580145  \n",
      "United Kingdom       1.051589  \n",
      "United States        0.906951  \n"
     ]
    }
   ],
   "source": [
    "# Initialize a DataFrame for the results\n",
    "results = pd.DataFrame(index=countries, columns=['Growth Rate', 'TFP Growth', 'Capital Deepening', 'TFP Share', 'Capital Share'])\n",
    "\n",
    "# Fill in the calculated data\n",
    "results['Growth Rate'] = growth_rates['rgdpna'] * 100  # Convert to percentage\n",
    "results['TFP Growth'] = growth_rates['rtfpna'] * 100\n",
    "results['Capital Deepening'] = growth_rates['rkna'] * 100\n",
    "\n",
    "# Calculate contributions as shares\n",
    "results['TFP Share'] = results['TFP Growth'] / results['Growth Rate']\n",
    "results['Capital Share'] = results['Capital Deepening'] / results['Growth Rate']\n",
    "\n",
    "# Display the results\n",
    "print(results)\n"
   ]
  },
  {
   "cell_type": "code",
   "execution_count": null,
   "metadata": {},
   "outputs": [],
   "source": []
  }
 ],
 "metadata": {
  "kernelspec": {
   "display_name": "Python 3",
   "language": "python",
   "name": "python3"
  },
  "language_info": {
   "codemirror_mode": {
    "name": "ipython",
    "version": 3
   },
   "file_extension": ".py",
   "mimetype": "text/x-python",
   "name": "python",
   "nbconvert_exporter": "python",
   "pygments_lexer": "ipython3",
   "version": "3.10.7"
  }
 },
 "nbformat": 4,
 "nbformat_minor": 2
}
