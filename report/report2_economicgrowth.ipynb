{
 "cells": [
  {
   "cell_type": "code",
   "execution_count": 4,
   "metadata": {},
   "outputs": [
    {
     "name": "stdout",
     "output_type": "stream",
     "text": [
      "Requirement already satisfied: requests in /Users/kurodayuuzou/.pyenv/versions/3.11.1/lib/python3.11/site-packages (2.31.0)\n",
      "Requirement already satisfied: certifi in /Users/kurodayuuzou/.pyenv/versions/3.11.1/lib/python3.11/site-packages (2023.5.7)\n",
      "Requirement already satisfied: pandas in /Users/kurodayuuzou/.pyenv/versions/3.11.1/lib/python3.11/site-packages (2.0.1)\n",
      "Requirement already satisfied: matplotlib in /Users/kurodayuuzou/.pyenv/versions/3.11.1/lib/python3.11/site-packages (3.7.1)\n",
      "Requirement already satisfied: charset-normalizer<4,>=2 in /Users/kurodayuuzou/.pyenv/versions/3.11.1/lib/python3.11/site-packages (from requests) (3.1.0)\n",
      "Requirement already satisfied: idna<4,>=2.5 in /Users/kurodayuuzou/.pyenv/versions/3.11.1/lib/python3.11/site-packages (from requests) (3.4)\n",
      "Requirement already satisfied: urllib3<3,>=1.21.1 in /Users/kurodayuuzou/.pyenv/versions/3.11.1/lib/python3.11/site-packages (from requests) (1.26.18)\n",
      "Requirement already satisfied: python-dateutil>=2.8.2 in /Users/kurodayuuzou/.pyenv/versions/3.11.1/lib/python3.11/site-packages (from pandas) (2.8.2)\n",
      "Requirement already satisfied: pytz>=2020.1 in /Users/kurodayuuzou/.pyenv/versions/3.11.1/lib/python3.11/site-packages (from pandas) (2023.3)\n",
      "Requirement already satisfied: tzdata>=2022.1 in /Users/kurodayuuzou/.pyenv/versions/3.11.1/lib/python3.11/site-packages (from pandas) (2023.3)\n",
      "Requirement already satisfied: numpy>=1.21.0 in /Users/kurodayuuzou/.pyenv/versions/3.11.1/lib/python3.11/site-packages (from pandas) (1.24.3)\n",
      "Requirement already satisfied: contourpy>=1.0.1 in /Users/kurodayuuzou/.pyenv/versions/3.11.1/lib/python3.11/site-packages (from matplotlib) (1.0.7)\n",
      "Requirement already satisfied: cycler>=0.10 in /Users/kurodayuuzou/.pyenv/versions/3.11.1/lib/python3.11/site-packages (from matplotlib) (0.11.0)\n",
      "Requirement already satisfied: fonttools>=4.22.0 in /Users/kurodayuuzou/.pyenv/versions/3.11.1/lib/python3.11/site-packages (from matplotlib) (4.39.4)\n",
      "Requirement already satisfied: kiwisolver>=1.0.1 in /Users/kurodayuuzou/.pyenv/versions/3.11.1/lib/python3.11/site-packages (from matplotlib) (1.4.4)\n",
      "Requirement already satisfied: packaging>=20.0 in /Users/kurodayuuzou/.pyenv/versions/3.11.1/lib/python3.11/site-packages (from matplotlib) (23.1)\n",
      "Requirement already satisfied: pillow>=6.2.0 in /Users/kurodayuuzou/.pyenv/versions/3.11.1/lib/python3.11/site-packages (from matplotlib) (9.5.0)\n",
      "Requirement already satisfied: pyparsing>=2.3.1 in /Users/kurodayuuzou/.pyenv/versions/3.11.1/lib/python3.11/site-packages (from matplotlib) (3.0.9)\n",
      "Requirement already satisfied: six>=1.5 in /Users/kurodayuuzou/.pyenv/versions/3.11.1/lib/python3.11/site-packages (from python-dateutil>=2.8.2->pandas) (1.16.0)\n",
      "\n",
      "\u001b[1m[\u001b[0m\u001b[34;49mnotice\u001b[0m\u001b[1;39;49m]\u001b[0m\u001b[39;49m A new release of pip available: \u001b[0m\u001b[31;49m22.3.1\u001b[0m\u001b[39;49m -> \u001b[0m\u001b[32;49m24.0\u001b[0m\n",
      "\u001b[1m[\u001b[0m\u001b[34;49mnotice\u001b[0m\u001b[1;39;49m]\u001b[0m\u001b[39;49m To update, run: \u001b[0m\u001b[32;49mpip install --upgrade pip\u001b[0m\n"
     ]
    }
   ],
   "source": [
    "# 必要なライブラリをインストール\n",
    "! pip install requests certifi pandas matplotlib\n",
    "\n",
    "# ライブラリのインポート\n",
    "import pandas as pd\n",
    "import requests\n",
    "import certifi\n",
    "import matplotlib.pyplot as plt\n",
    "import tempfile\n",
    "\n",
    "# セキュリティを維持したままファイルをダウンロード\n",
    "url = 'https://www.rug.nl/ggdc/docs/pwt90.dta'\n",
    "response = requests.get(url, verify=certifi.where())\n",
    "response.raise_for_status()\n",
    "\n",
    "# 一時ファイルにデータを保存\n",
    "with tempfile.NamedTemporaryFile(delete=False, suffix='.dta') as tmp:\n",
    "    tmp.write(response.content)\n",
    "    tmp_path = tmp.name\n",
    "\n",
    "# pandasでデータを読み込む\n",
    "pwt_data = pd.read_stata(tmp_path)\n"
   ]
  },
  {
   "cell_type": "code",
   "execution_count": 6,
   "metadata": {},
   "outputs": [],
   "source": [
    "import pandas as pd\n",
    "import requests\n",
    "import certifi\n",
    "import tempfile\n",
    "\n",
    "# データをダウンロード\n",
    "url = 'https://www.rug.nl/ggdc/docs/pwt90.dta'\n",
    "response = requests.get(url, verify=certifi.where())\n",
    "response.raise_for_status()\n",
    "\n",
    "# 一時ファイルに保存\n",
    "with tempfile.NamedTemporaryFile(delete=False, suffix='.dta') as tmp:\n",
    "    tmp.write(response.content)\n",
    "    tmp_path = tmp.name\n",
    "\n",
    "# データを読み込む\n",
    "pwt_data = pd.read_stata(tmp_path)\n",
    "\n",
    "# 重要な国のデータをフィルタリングし、特定の期間のデータを選択\n",
    "important_countries = ['Australia', 'Austria', 'Belgium', 'Canada', 'Denmark', 'Finland', 'France', 'Germany', 'Greece', 'Iceland', 'Ireland', 'Italy', 'Japan', 'Netherlands', 'New Zealand', 'Norway', 'Portugal', 'Spain', 'Sweden', 'Switzerland', 'United Kingdom', 'United States']\n",
    "data_filtered = pwt_data[(pwt_data['country'].isin(important_countries)) & (pwt_data['year'].between(1960, 2000))]\n",
    "\n",
    "# 必要な列のみ選択\n",
    "data_filtered = data_filtered[['country', 'year', 'rgdpna', 'rkna', 'pop', 'emp', 'avh', 'labsh', 'rtfpna']]\n",
    "\n",
    "# 追加変数を計算\n",
    "data_filtered['alpha'] = 1 - data_filtered['labsh']\n",
    "data_filtered['y_n'] = data_filtered['rgdpna'] / data_filtered['emp']  # 1人当たりGDP\n",
    "data_filtered['hours'] = data_filtered['emp'] * data_filtered['avh']  # 総労働時間\n",
    "data_filtered['tfp_term'] = data_filtered['rtfpna'] ** (1 / (1 - data_filtered['alpha']))  # TFP項\n",
    "data_filtered['cap_term'] = (data_filtered['rkna'] / data_filtered['rgdpna']) ** (data_filtered['alpha'] / (1 - data_filtered['alpha']))  # 資本項\n",
    "data_filtered['lab_term'] = data_filtered['hours'] / data_filtered['pop']  # 労働項\n",
    "\n",
    "# 年度ごとにデータを正規化（基準年比）\n",
    "data_normalized = data_filtered.sort_values('year').groupby('country').apply(lambda x: x.assign(\n",
    "    y_n_shifted=100 * x['y_n'] / x['y_n'].iloc[0],\n",
    "    tfp_term_shifted=100 * x['tfp_term'] / x['tfp_term'].iloc[0],\n",
    "    cap_term_shifted=100 * x['cap_term'] / x['cap_term'].iloc[0],\n",
    "    lab_term_shifted=100 * x['lab_term'] / x['lab_term'].iloc[0]\n",
    ")).reset_index(drop=True)\n",
    "\n",
    "# 結果を表示\n",
    "print(data_normalized[['country', 'year', 'y_n_shifted', 'tfp_term_shifted', 'cap_term_shifted', 'lab_term_shifted']].head())\n",
    "\n",
    "# 必要に応じて、このデータをさらに分析や可視化する\n"
   ]
  },
  {
   "cell_type": "code",
   "execution_count": null,
   "metadata": {},
   "outputs": [],
   "source": []
  }
 ],
 "metadata": {
  "kernelspec": {
   "display_name": "Python 3",
   "language": "python",
   "name": "python3"
  },
  "language_info": {
   "codemirror_mode": {
    "name": "ipython",
    "version": 3
   },
   "file_extension": ".py",
   "mimetype": "text/x-python",
   "name": "python",
   "nbconvert_exporter": "python",
   "pygments_lexer": "ipython3",
   "version": "3.10.7"
  }
 },
 "nbformat": 4,
 "nbformat_minor": 2
}
