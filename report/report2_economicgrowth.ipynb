{
 "cells": [
  {
   "cell_type": "code",
   "execution_count": 46,
   "metadata": {},
   "outputs": [
    {
     "name": "stdout",
     "output_type": "stream",
     "text": [
      "Requirement already satisfied: requests in /Users/kurodayuuzou/.pyenv/versions/3.11.1/lib/python3.11/site-packages (2.31.0)\n",
      "Requirement already satisfied: certifi in /Users/kurodayuuzou/.pyenv/versions/3.11.1/lib/python3.11/site-packages (2023.5.7)\n",
      "Requirement already satisfied: charset-normalizer<4,>=2 in /Users/kurodayuuzou/.pyenv/versions/3.11.1/lib/python3.11/site-packages (from requests) (3.1.0)\n",
      "Requirement already satisfied: idna<4,>=2.5 in /Users/kurodayuuzou/.pyenv/versions/3.11.1/lib/python3.11/site-packages (from requests) (3.4)\n",
      "Requirement already satisfied: urllib3<3,>=1.21.1 in /Users/kurodayuuzou/.pyenv/versions/3.11.1/lib/python3.11/site-packages (from requests) (1.26.18)\n",
      "\n",
      "\u001b[1m[\u001b[0m\u001b[34;49mnotice\u001b[0m\u001b[1;39;49m]\u001b[0m\u001b[39;49m A new release of pip available: \u001b[0m\u001b[31;49m22.3.1\u001b[0m\u001b[39;49m -> \u001b[0m\u001b[32;49m24.0\u001b[0m\n",
      "\u001b[1m[\u001b[0m\u001b[34;49mnotice\u001b[0m\u001b[1;39;49m]\u001b[0m\u001b[39;49m To update, run: \u001b[0m\u001b[32;49mpip install --upgrade pip\u001b[0m\n"
     ]
    }
   ],
   "source": [
    "# 必要なライブラリをインストール\n",
    "! pip install requests certifi\n",
    "\n",
    "# ライブラリのインポート\n",
    "import pandas as pd\n",
    "import requests\n",
    "import tempfile\n",
    "import certifi\n",
    "\n",
    "# セキュリティを維持したままファイルをダウンロード\n",
    "url = 'https://www.rug.nl/ggdc/docs/pwt90.dta'\n",
    "response = requests.get(url, verify=certifi.where())  # SSL証明書の確認を行う\n",
    "response.raise_for_status()  # ステータスコードをチェックし、問題があれば例外を発生\n",
    "\n",
    "# 一時ファイルにデータを保存\n",
    "with tempfile.NamedTemporaryFile(delete=False, suffix='.dta') as tmp:\n",
    "    tmp.write(response.content)\n",
    "    tmp_path = tmp.name  # 一時ファイルのパスを保持\n",
    "\n",
    "# pandasでデータを読み込む\n",
    "pwt90 = pd.read_stata(tmp_path)\n",
    "\n",
    "# Filter and select relevant columns\n",
    "data = pwt90.loc[pwt90['country'].isin(['United Kingdom'])][['year', 'countrycode', 'rgdpna', 'rkna', 'pop', 'emp', 'avh', 'labsh', 'rtfpna']]\n",
    "data = data.loc[(data['year'] >= 1960) & (data['year'] <= 2000)].dropna()"
   ]
  },
  {
   "cell_type": "code",
   "execution_count": 47,
   "metadata": {},
   "outputs": [
    {
     "name": "stdout",
     "output_type": "stream",
     "text": [
      "   year countrycode       rgdpna        rkna        pop        emp  \\\n",
      "0  1960         GBR  671028.2500  2813235.25  52.352610  23.774094   \n",
      "1  1961         GBR  685483.8125  2913184.50  52.787446  24.049974   \n",
      "2  1962         GBR  697548.9375  2997102.75  53.272267  24.182936   \n",
      "\n",
      "           avh     labsh    rtfpna     alpha           y_n         hours  \\\n",
      "0  2208.754511  0.603153  0.591720  0.396847  28225.187500  52511.136539   \n",
      "1  2173.661236  0.603153  0.594753  0.396847  28502.476562  52276.497160   \n",
      "2  2156.257459  0.603153  0.596786  0.396847  28844.675781  52144.635511   \n",
      "\n",
      "   tfp_term  cap_term     lab_term  y_n_shifted  tfp_term_shifted  \\\n",
      "0  0.418967  2.567757  1003.028059   100.000000        100.000000   \n",
      "1  0.422533  2.590834   990.320632   100.982422        100.851234   \n",
      "2  0.424930  2.609570   978.832668   102.194801        101.423439   \n",
      "\n",
      "   cap_term_shifted  lab_term_shifted  \n",
      "0         99.999992        100.000000  \n",
      "1        100.898712         98.733094  \n",
      "2        101.628357         97.587765  \n"
     ]
    },
    {
     "name": "stderr",
     "output_type": "stream",
     "text": [
      "/var/folders/_1/6pq414md0y1_mgwvl5dlnd2h0000gn/T/ipykernel_51932/1162399826.py:8: DeprecationWarning: DataFrameGroupBy.apply operated on the grouping columns. This behavior is deprecated, and in a future version of pandas the grouping columns will be excluded from the operation. Either pass `include_groups=False` to exclude the groupings or explicitly select the grouping columns after groupby to silence this warning.\n",
      "  data = data.sort_values('year').groupby('countrycode').apply(lambda x: x.assign(\n"
     ]
    }
   ],
   "source": [
    "# Calculate additional variables\n",
    "data['alpha'] = 1 - data['labsh']\n",
    "data['y_n'] = data['rgdpna'] / data['emp']  # Y/N\n",
    "data['hours'] = data['emp'] * data['avh']  # L\n",
    "data['tfp_term'] = data['rtfpna'] ** (1 / (1 - data['alpha']))  # A^(1/(1-alpha))\n",
    "data['cap_term'] = (data['rkna'] / data['rgdpna']) ** (data['alpha'] / (1 - data['alpha']))  # (K/Y)^(alpha/(1-alpha))\n",
    "data['lab_term'] = data['hours'] / data['pop']  # L/N\n",
    "data = data.sort_values('year').groupby('countrycode').apply(lambda x: x.assign(\n",
    "    alpha=1 - x['labsh'],\n",
    "    y_n_shifted=100 * x['y_n'] / x['y_n'].iloc[0],\n",
    "    tfp_term_shifted=100 * x['tfp_term'] / x['tfp_term'].iloc[0],\n",
    "    cap_term_shifted=100 * x['cap_term'] / x['cap_term'].iloc[0],\n",
    "    lab_term_shifted=100 * x['lab_term'] / x['lab_term'].iloc[0]\n",
    ")).reset_index(drop=True).dropna()\n",
    "\n",
    "# Print first 10 rows of data\n",
    "print(data.head(3))"
   ]
  },
  {
   "cell_type": "code",
   "execution_count": 48,
   "metadata": {},
   "outputs": [],
   "source": [
    "data['alpha'] = 1 - data['labsh'] # 資本分配率\n",
    "data['y_n'] = data['rgdpna'] / data['emp']  # 一人当たりのGDP\n",
    "data['hours'] = data['emp'] * data['avh'] # 総労働時間\n",
    "data['tfp_term'] = data['rtfpna']**(1/(1-data['alpha'])) #生産性**(1-資本分配率)\n",
    "data['cap_term'] = (data['rkna'] / data['rgdpna']) ** (data['alpha'] / (1 - data['alpha']))  # (K/Y)^(alpha/(1-alpha))\n",
    "data['lab_term'] = data['hours'] / data['pop']  # L/N（労働人口あたりの労働時間）"
   ]
  },
  {
   "cell_type": "code",
   "execution_count": 49,
   "metadata": {},
   "outputs": [
    {
     "name": "stderr",
     "output_type": "stream",
     "text": [
      "/var/folders/_1/6pq414md0y1_mgwvl5dlnd2h0000gn/T/ipykernel_51932/140306549.py:1: DeprecationWarning: DataFrameGroupBy.apply operated on the grouping columns. This behavior is deprecated, and in a future version of pandas the grouping columns will be excluded from the operation. Either pass `include_groups=False` to exclude the groupings or explicitly select the grouping columns after groupby to silence this warning.\n",
      "  data = data.sort_values('year').groupby('countrycode').apply(lambda x: x.assign(\n"
     ]
    }
   ],
   "source": [
    "data = data.sort_values('year').groupby('countrycode').apply(lambda x: x.assign(\n",
    "    alpha=1 - x['labsh'],\n",
    "    y_n_shifted=100 * x['y_n'] / x['y_n'].iloc[0],\n",
    "    tfp_term_shifted=100 * x['tfp_term'] / x['tfp_term'].iloc[0],\n",
    "    cap_term_shifted=100 * x['cap_term'] / x['cap_term'].iloc[0],\n",
    "    lab_term_shifted=100 * x['lab_term'] / x['lab_term'].iloc[0]\n",
    ")).reset_index(drop=True).dropna()\n"
   ]
  },
  {
   "cell_type": "code",
   "execution_count": 59,
   "metadata": {},
   "outputs": [
    {
     "name": "stdout",
     "output_type": "stream",
     "text": [
      "    year countrycode       rgdpna       rkna        pop       emp  \\\n",
      "40  2000         GBR  1849012.125  8162493.0  58.867004  27.31735   \n",
      "\n",
      "            avh    labsh    rtfpna    alpha           y_n         hours  \\\n",
      "40  1699.106773  0.63099  0.952748  0.36901  67686.367188  46415.095068   \n",
      "\n",
      "    tfp_term  cap_term   lab_term  y_n_shifted  tfp_term_shifted  \\\n",
      "40  0.926156  2.383062  788.47388    239.80838        221.057159   \n",
      "\n",
      "    cap_term_shifted  lab_term_shifted  \n",
      "40         92.807129         78.609354  \n"
     ]
    }
   ],
   "source": [
    "print(data[40:])"
   ]
  },
  {
   "cell_type": "code",
   "execution_count": 62,
   "metadata": {},
   "outputs": [
    {
     "name": "stdout",
     "output_type": "stream",
     "text": [
      "    tfp_term  cap_term\n",
      "40  0.926156  2.383062\n"
     ]
    }
   ],
   "source": [
    "print(data[['tfp_term','cap_term']][40:])"
   ]
  },
  {
   "cell_type": "code",
   "execution_count": null,
   "metadata": {},
   "outputs": [],
   "source": []
  }
 ],
 "metadata": {
  "kernelspec": {
   "display_name": "Python 3",
   "language": "python",
   "name": "python3"
  },
  "language_info": {
   "codemirror_mode": {
    "name": "ipython",
    "version": 3
   },
   "file_extension": ".py",
   "mimetype": "text/x-python",
   "name": "python",
   "nbconvert_exporter": "python",
   "pygments_lexer": "ipython3",
   "version": "3.10.7"
  }
 },
 "nbformat": 4,
 "nbformat_minor": 2
}
