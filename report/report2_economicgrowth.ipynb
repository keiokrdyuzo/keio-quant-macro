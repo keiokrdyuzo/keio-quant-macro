{
 "cells": [
  {
   "cell_type": "code",
   "execution_count": null,
   "metadata": {},
   "outputs": [],
   "source": [
    "# 必要なライブラリをインストール\n",
    "! pip install requests certifi pandas matplotlib\n",
    "\n",
    "# ライブラリのインポート\n",
    "import pandas as pd\n",
    "import requests\n",
    "import certifi\n",
    "import matplotlib.pyplot as plt\n",
    "import tempfile\n",
    "\n",
    "# セキュリティを維持したままファイルをダウンロード\n",
    "url = 'https://www.rug.nl/ggdc/docs/pwt90.dta'\n",
    "response = requests.get(url, verify=certifi.where())\n",
    "response.raise_for_status()\n",
    "\n",
    "# 一時ファイルにデータを保存\n",
    "with tempfile.NamedTemporaryFile(delete=False, suffix='.dta') as tmp:\n",
    "    tmp.write(response.content)\n",
    "    tmp_path = tmp.name\n",
    "\n",
    "# pandasでデータを読み込む\n",
    "pwt_data = pd.read_stata(tmp_path)\n"
   ]
  },
  {
   "cell_type": "code",
   "execution_count": 13,
   "metadata": {},
   "outputs": [
    {
     "name": "stdout",
     "output_type": "stream",
     "text": [
      "     country  year  y_n_shifted  tfp_term_shifted  cap_term_shifted  \\\n",
      "0  Australia  1960    99.999992        100.000000        100.000000   \n",
      "1  Australia  1961   101.071815        100.061691        100.519989   \n",
      "2  Australia  1962   104.900322        104.384750         99.522270   \n",
      "3  Australia  1963   108.870148        109.063492         98.378540   \n",
      "4  Australia  1964   111.746109        111.970459         97.879112   \n",
      "\n",
      "   lab_term_shifted  \n",
      "0        100.000000  \n",
      "1         97.757064  \n",
      "2         97.998841  \n",
      "3         98.621439  \n",
      "4         99.894994  \n"
     ]
    },
    {
     "name": "stderr",
     "output_type": "stream",
     "text": [
      "/var/folders/_1/6pq414md0y1_mgwvl5dlnd2h0000gn/T/ipykernel_51932/1122020981.py:30: DeprecationWarning: DataFrameGroupBy.apply operated on the grouping columns. This behavior is deprecated, and in a future version of pandas the grouping columns will be excluded from the operation. Either pass `include_groups=False` to exclude the groupings or explicitly select the grouping columns after groupby to silence this warning.\n",
      "  data_filtered = data_filtered.sort_values('year').groupby('country').apply(lambda x: x.assign(\n"
     ]
    }
   ],
   "source": [
    "# データをダウンロード\n",
    "url = 'https://www.rug.nl/ggdc/docs/pwt90.dta'\n",
    "response = requests.get(url, verify=certifi.where())\n",
    "response.raise_for_status()\n",
    "\n",
    "# 一時ファイルに保存\n",
    "with tempfile.NamedTemporaryFile(delete=False, suffix='.dta') as tmp:\n",
    "    tmp.write(response.content)\n",
    "    tmp_path = tmp.name\n",
    "\n",
    "# データを読み込む\n",
    "pwt_data = pd.read_stata(tmp_path)\n",
    "\n",
    "# 重要な国のデータをフィルタリングし、特定の期間のデータを選択\n",
    "important_countries = ['Australia', 'Austria', 'Belgium', 'Canada', 'Denmark', 'Finland', 'France', 'Germany', 'Greece', 'Iceland', 'Ireland', 'Italy', 'Japan', 'Netherlands', 'New Zealand', 'Norway', 'Portugal', 'Spain', 'Sweden', 'Switzerland', 'United Kingdom', 'United States']\n",
    "data_filtered = pwt_data[(pwt_data['country'].isin(important_countries)) & (pwt_data['year'].between(1960, 2000))]\n",
    "\n",
    "# 必要な列のみ選択\n",
    "data_filtered = data_filtered[['country', 'year', 'rgdpna', 'rkna', 'pop', 'emp', 'avh', 'labsh', 'rtfpna']]\n",
    "\n",
    "# 追加変数を計算\n",
    "data_filtered['alpha'] = 1 - data_filtered['labsh']\n",
    "data_filtered['y_n'] = data_filtered['rgdpna'] / data_filtered['emp']  # 1人当たりGDP\n",
    "data_filtered['hours'] = data_filtered['emp'] * data_filtered['avh']  # 総労働時間\n",
    "data_filtered['tfp_term'] = data_filtered['rtfpna'] ** (1 / (1 - data_filtered['alpha']))  # TFP項\n",
    "data_filtered['cap_term'] = (data_filtered['rkna'] / data_filtered['rgdpna']) ** (data_filtered['alpha'] / (1 - data_filtered['alpha']))  # 資本項\n",
    "data_filtered['lab_term'] = data_filtered['hours'] / data_filtered['pop']  # 労働項\n",
    "\n",
    "# 年度ごとの正規化と再計算\n",
    "data_filtered = data_filtered.sort_values('year').groupby('country').apply(lambda x: x.assign(\n",
    "    alpha=1 - x['labsh'],\n",
    "    y_n_shifted=100 * x['y_n'] / x['y_n'].iloc[0],\n",
    "    tfp_term_shifted=100 * x['tfp_term'] / x['tfp_term'].iloc[0],\n",
    "    cap_term_shifted=100 * x['cap_term'] / x['cap_term'].iloc[0],\n",
    "    lab_term_shifted=100 * x['lab_term'] / x['lab_term'].iloc[0]\n",
    ")).reset_index(drop=True).dropna()\n",
    "\n"
   ]
  },
  {
   "cell_type": "code",
   "execution_count": null,
   "metadata": {},
   "outputs": [],
   "source": []
  },
  {
   "cell_type": "code",
   "execution_count": null,
   "metadata": {},
   "outputs": [],
   "source": []
  }
 ],
 "metadata": {
  "kernelspec": {
   "display_name": "Python 3",
   "language": "python",
   "name": "python3"
  },
  "language_info": {
   "codemirror_mode": {
    "name": "ipython",
    "version": 3
   },
   "file_extension": ".py",
   "mimetype": "text/x-python",
   "name": "python",
   "nbconvert_exporter": "python",
   "pygments_lexer": "ipython3",
   "version": "3.10.7"
  }
 },
 "nbformat": 4,
 "nbformat_minor": 2
}
