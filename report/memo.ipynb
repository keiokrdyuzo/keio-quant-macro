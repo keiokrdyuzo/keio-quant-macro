{
 "cells": [
  {
   "cell_type": "code",
   "execution_count": 46,
   "metadata": {},
   "outputs": [
    {
     "name": "stdout",
     "output_type": "stream",
     "text": [
      "Requirement already satisfied: requests in /Users/kurodayuuzou/.pyenv/versions/3.11.1/lib/python3.11/site-packages (2.31.0)\n",
      "Requirement already satisfied: certifi in /Users/kurodayuuzou/.pyenv/versions/3.11.1/lib/python3.11/site-packages (2023.5.7)\n",
      "Requirement already satisfied: charset-normalizer<4,>=2 in /Users/kurodayuuzou/.pyenv/versions/3.11.1/lib/python3.11/site-packages (from requests) (3.1.0)\n",
      "Requirement already satisfied: idna<4,>=2.5 in /Users/kurodayuuzou/.pyenv/versions/3.11.1/lib/python3.11/site-packages (from requests) (3.4)\n",
      "Requirement already satisfied: urllib3<3,>=1.21.1 in /Users/kurodayuuzou/.pyenv/versions/3.11.1/lib/python3.11/site-packages (from requests) (1.26.18)\n",
      "\n",
      "\u001b[1m[\u001b[0m\u001b[34;49mnotice\u001b[0m\u001b[1;39;49m]\u001b[0m\u001b[39;49m A new release of pip available: \u001b[0m\u001b[31;49m22.3.1\u001b[0m\u001b[39;49m -> \u001b[0m\u001b[32;49m24.0\u001b[0m\n",
      "\u001b[1m[\u001b[0m\u001b[34;49mnotice\u001b[0m\u001b[1;39;49m]\u001b[0m\u001b[39;49m To update, run: \u001b[0m\u001b[32;49mpip install --upgrade pip\u001b[0m\n"
     ]
    }
   ],
   "source": [
    "# 必要なライブラリをインストール\n",
    "! pip install requests certifi\n",
    "\n",
    "# ライブラリのインポート\n",
    "import pandas as pd\n",
    "import requests\n",
    "import tempfile\n",
    "import certifi\n",
    "\n",
    "# セキュリティを維持したままファイルをダウンロード\n",
    "url = 'https://www.rug.nl/ggdc/docs/pwt90.dta'\n",
    "response = requests.get(url, verify=certifi.where())  # SSL証明書の確認を行う\n",
    "response.raise_for_status()  # ステータスコードをチェックし、問題があれば例外を発生\n",
    "\n",
    "# 一時ファイルにデータを保存\n",
    "with tempfile.NamedTemporaryFile(delete=False, suffix='.dta') as tmp:\n",
    "    tmp.write(response.content)\n",
    "    tmp_path = tmp.name  # 一時ファイルのパスを保持\n",
    "\n",
    "# pandasでデータを読み込む\n",
    "pwt90 = pd.read_stata(tmp_path)\n",
    "\n",
    "# Filter and select relevant columns\n",
    "data = pwt90.loc[pwt90['country'].isin(['United Kingdom'])][['year', 'countrycode', 'rgdpna', 'rkna', 'pop', 'emp', 'avh', 'labsh', 'rtfpna']]\n",
    "data = data.loc[(data['year'] >= 1960) & (data['year'] <= 2000)].dropna()"
   ]
  },
  {
   "cell_type": "code",
   "execution_count": 47,
   "metadata": {},
   "outputs": [
    {
     "name": "stdout",
     "output_type": "stream",
     "text": [
      "   year countrycode       rgdpna        rkna        pop        emp  \\\n",
      "0  1960         GBR  671028.2500  2813235.25  52.352610  23.774094   \n",
      "1  1961         GBR  685483.8125  2913184.50  52.787446  24.049974   \n",
      "2  1962         GBR  697548.9375  2997102.75  53.272267  24.182936   \n",
      "\n",
      "           avh     labsh    rtfpna     alpha           y_n         hours  \\\n",
      "0  2208.754511  0.603153  0.591720  0.396847  28225.187500  52511.136539   \n",
      "1  2173.661236  0.603153  0.594753  0.396847  28502.476562  52276.497160   \n",
      "2  2156.257459  0.603153  0.596786  0.396847  28844.675781  52144.635511   \n",
      "\n",
      "   tfp_term  cap_term     lab_term  y_n_shifted  tfp_term_shifted  \\\n",
      "0  0.418967  2.567757  1003.028059   100.000000        100.000000   \n",
      "1  0.422533  2.590834   990.320632   100.982422        100.851234   \n",
      "2  0.424930  2.609570   978.832668   102.194801        101.423439   \n",
      "\n",
      "   cap_term_shifted  lab_term_shifted  \n",
      "0         99.999992        100.000000  \n",
      "1        100.898712         98.733094  \n",
      "2        101.628357         97.587765  \n"
     ]
    },
    {
     "name": "stderr",
     "output_type": "stream",
     "text": [
      "/var/folders/_1/6pq414md0y1_mgwvl5dlnd2h0000gn/T/ipykernel_51932/1162399826.py:8: DeprecationWarning: DataFrameGroupBy.apply operated on the grouping columns. This behavior is deprecated, and in a future version of pandas the grouping columns will be excluded from the operation. Either pass `include_groups=False` to exclude the groupings or explicitly select the grouping columns after groupby to silence this warning.\n",
      "  data = data.sort_values('year').groupby('countrycode').apply(lambda x: x.assign(\n"
     ]
    }
   ],
   "source": [
    "# Calculate additional variables\n",
    "data['alpha'] = 1 - data['labsh']\n",
    "data['y_n'] = data['rgdpna'] / data['emp']  # Y/N\n",
    "data['hours'] = data['emp'] * data['avh']  # L\n",
    "data['tfp_term'] = data['rtfpna'] ** (1 / (1 - data['alpha']))  # A^(1/(1-alpha))\n",
    "data['cap_term'] = (data['rkna'] / data['rgdpna']) ** (data['alpha'] / (1 - data['alpha']))  # (K/Y)^(alpha/(1-alpha))\n",
    "data['lab_term'] = data['hours'] / data['pop']  # L/N\n",
    "data = data.sort_values('year').groupby('countrycode').apply(lambda x: x.assign(\n",
    "    alpha=1 - x['labsh'],\n",
    "    y_n_shifted=100 * x['y_n'] / x['y_n'].iloc[0],\n",
    "    tfp_term_shifted=100 * x['tfp_term'] / x['tfp_term'].iloc[0],\n",
    "    cap_term_shifted=100 * x['cap_term'] / x['cap_term'].iloc[0],\n",
    "    lab_term_shifted=100 * x['lab_term'] / x['lab_term'].iloc[0]\n",
    ")).reset_index(drop=True).dropna()\n",
    "\n",
    "# Print first 10 rows of data\n",
    "print(data.head(3))"
   ]
  },
  {
   "cell_type": "code",
   "execution_count": 65,
   "metadata": {},
   "outputs": [],
   "source": [
    "# イギリス\n",
    "data = pwt90.loc[pwt90['country'].isin(['United Kingdom']) & (pwt90['year'] >= 1960) & (pwt90['year'] <= 2000)]\n",
    "data = data[['year', 'countrycode', 'rgdpna', 'rkna', 'pop', 'emp', 'avh', 'labsh', 'rtfpna']].dropna()\n",
    "\n",
    "# 追加変数の計算\n",
    "data['gdp_growth'] = data['rgdpna'].pct_change() * 100  # GDP成長率\n",
    "data['tfp_growth'] = data['rtfpna'].pct_change() * 100  # TFP成長率\n",
    "data['capital_deepening'] = ((data['rkna'] / data['emp']).pct_change()) * 100  # 資本深化\n",
    "data['alpha'] = 1 - data['labsh']  # 労働のシェアから資本のシェアを計算\n",
    "data['tfp_share'] = data['rtfpna'] / data['rgdpna']  # TFPシェア\n",
    "data['capital_share'] = data['rkna'] / data['rgdpna']  # 資本シェア\n"
   ]
  },
  {
   "cell_type": "code",
   "execution_count": 67,
   "metadata": {},
   "outputs": [
    {
     "name": "stdout",
     "output_type": "stream",
     "text": [
      "      year  gdp_growth  tfp_growth  capital_deepening     tfp_share  \\\n",
      "3975  1960         NaN         NaN                NaN  8.818114e-07   \n",
      "3976  1961    2.154243    0.512564           2.364945  8.676402e-07   \n",
      "3977  1962    1.760089    0.341833           2.314985  8.555476e-07   \n",
      "3978  1963    3.867686    1.798344           2.667916  8.385027e-07   \n",
      "3979  1964    5.614042    2.375484           3.295004  8.127907e-07   \n",
      "3980  1965    2.325571    0.455630           3.206193  7.979374e-07   \n",
      "3981  1966    1.948059    0.740147           3.651047  7.884832e-07   \n",
      "3982  1967    2.229297    1.393485           5.387759  7.820367e-07   \n",
      "3983  1968    7.165110    5.421209           4.944766  7.693105e-07   \n",
      "3984  1969   -0.872093   -2.729756           3.959727  7.548936e-07   \n",
      "3985  1970    2.052784    1.497304           3.981853  7.507847e-07   \n",
      "3986  1971    3.481662    2.931643           3.805602  7.467941e-07   \n",
      "3987  1972    4.227173    2.838159           2.990818  7.368417e-07   \n",
      "3988  1973    6.539977    3.360915           1.948607  7.148549e-07   \n",
      "3989  1974   -2.520949   -3.065526           2.664459  7.108613e-07   \n",
      "3990  1975   -1.549596   -1.569092           2.898109  7.107206e-07   \n",
      "3991  1976    3.028286    2.063787           3.115189  7.040671e-07   \n",
      "3992  1977    2.597046    1.267731           2.197254  6.949448e-07   \n",
      "3993  1978    4.129946    2.626121           1.930523  6.849086e-07   \n",
      "3994  1979    3.676164    2.693057           1.633286  6.784139e-07   \n",
      "3995  1980   -2.169305   -2.319211           2.460134  6.773744e-07   \n",
      "3996  1981   -0.846839    0.929606           4.740644  6.895103e-07   \n",
      "3997  1982    2.075398    2.506840           3.255880  6.924246e-07   \n",
      "3998  1983    4.201782    3.031242           1.926959  6.846464e-07   \n",
      "3999  1984    2.260387   -0.277334          -0.022131  6.676560e-07   \n",
      "4000  1985    4.113245    2.068698           1.358271  6.545447e-07   \n",
      "4001  1986    3.168344    2.084327           2.030778  6.476673e-07   \n",
      "4002  1987    5.560088    2.605176           0.475991  6.295373e-07   \n",
      "4003  1988    5.920041    1.656401          -0.045234  6.041963e-07   \n",
      "4004  1989    2.519095   -0.537723           0.778985  5.861809e-07   \n",
      "4005  1990    0.553584   -0.325310           1.620090  5.810574e-07   \n",
      "4006  1991   -1.257038    0.097072           4.419458  5.890258e-07   \n",
      "4007  1992    0.446403    1.930094           3.725231  5.977262e-07   \n",
      "4008  1993    2.635002    2.191520           2.130795  5.951435e-07   \n",
      "4009  1994    4.023969    1.723707           0.920570  5.819832e-07   \n",
      "4010  1995    2.521729    0.124562           1.146650  5.683753e-07   \n",
      "4011  1996    2.667820    0.508249           1.309156  5.564198e-07   \n",
      "4012  1997    3.098965    1.431525           0.071859  5.474207e-07   \n",
      "4013  1998    3.376460    0.742304           1.149845  5.334717e-07   \n",
      "4014  1999    3.112745    1.175439           0.735950  5.234488e-07   \n",
      "4015  2000    3.798842    2.177799           0.936067  5.152740e-07   \n",
      "\n",
      "      capital_share  \n",
      "3975       4.192424  \n",
      "3976       4.249823  \n",
      "3977       4.296620  \n",
      "3978       4.257834  \n",
      "3979       4.220539  \n",
      "3980       4.299910  \n",
      "3981       4.381737  \n",
      "3982       4.464670  \n",
      "3983       4.352863  \n",
      "3984       4.566800  \n",
      "3985       4.641014  \n",
      "3986       4.643909  \n",
      "3987       4.599881  \n",
      "3988       4.469260  \n",
      "3989       4.724903  \n",
      "3990       4.925249  \n",
      "3991       4.904006  \n",
      "3992       4.892823  \n",
      "3993       4.815713  \n",
      "3994       4.763587  \n",
      "3995       4.959961  \n",
      "3996       5.062994  \n",
      "3997       5.034135  \n",
      "3998       4.913865  \n",
      "3999       4.910030  \n",
      "4000       4.823356  \n",
      "4001       4.779999  \n",
      "4002       4.648652  \n",
      "4003       4.541525  \n",
      "4004       4.590783  \n",
      "4005       4.659985  \n",
      "4006       4.784678  \n",
      "4007       4.830167  \n",
      "4008       4.773463  \n",
      "4009       4.668354  \n",
      "4010       4.656081  \n",
      "4011       4.639017  \n",
      "4012       4.586237  \n",
      "4013       4.533851  \n",
      "4014       4.488973  \n",
      "4015       4.414515  \n"
     ]
    }
   ],
   "source": [
    "# 結果の表示\n",
    "print(data[['year', 'gdp_growth', 'tfp_growth', 'capital_deepening', 'tfp_share', 'capital_share']])\n"
   ]
  },
  {
   "cell_type": "code",
   "execution_count": null,
   "metadata": {},
   "outputs": [],
   "source": []
  }
 ],
 "metadata": {
  "kernelspec": {
   "display_name": "Python 3",
   "language": "python",
   "name": "python3"
  },
  "language_info": {
   "codemirror_mode": {
    "name": "ipython",
    "version": 3
   },
   "file_extension": ".py",
   "mimetype": "text/x-python",
   "name": "python",
   "nbconvert_exporter": "python",
   "pygments_lexer": "ipython3",
   "version": "3.10.7"
  }
 },
 "nbformat": 4,
 "nbformat_minor": 2
}
